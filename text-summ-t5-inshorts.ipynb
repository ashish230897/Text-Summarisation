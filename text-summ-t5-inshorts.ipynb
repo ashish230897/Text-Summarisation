{
 "cells": [
  {
   "cell_type": "code",
   "execution_count": 2,
   "metadata": {
    "execution": {
     "iopub.execute_input": "2022-10-03T09:54:19.625194Z",
     "iopub.status.busy": "2022-10-03T09:54:19.623854Z",
     "iopub.status.idle": "2022-10-03T09:54:52.699435Z",
     "shell.execute_reply": "2022-10-03T09:54:52.697838Z",
     "shell.execute_reply.started": "2022-10-03T09:54:19.625149Z"
    }
   },
   "outputs": [
    {
     "name": "stdout",
     "output_type": "stream",
     "text": [
      "\u001b[33mWARNING: Running pip as the 'root' user can result in broken permissions and conflicting behaviour with the system package manager. It is recommended to use a virtual environment instead: https://pip.pypa.io/warnings/venv\u001b[0m\u001b[33m\n",
      "\u001b[0mRequirement already satisfied: transformers in /opt/conda/lib/python3.7/site-packages (4.20.1)\n",
      "Requirement already satisfied: importlib-metadata in /opt/conda/lib/python3.7/site-packages (from transformers) (4.12.0)\n",
      "Requirement already satisfied: regex!=2019.12.17 in /opt/conda/lib/python3.7/site-packages (from transformers) (2021.11.10)\n",
      "Requirement already satisfied: requests in /opt/conda/lib/python3.7/site-packages (from transformers) (2.28.1)\n",
      "Requirement already satisfied: filelock in /opt/conda/lib/python3.7/site-packages (from transformers) (3.7.1)\n",
      "Requirement already satisfied: huggingface-hub<1.0,>=0.1.0 in /opt/conda/lib/python3.7/site-packages (from transformers) (0.8.1)\n",
      "Requirement already satisfied: packaging>=20.0 in /opt/conda/lib/python3.7/site-packages (from transformers) (21.3)\n",
      "Requirement already satisfied: pyyaml>=5.1 in /opt/conda/lib/python3.7/site-packages (from transformers) (6.0)\n",
      "Requirement already satisfied: tqdm>=4.27 in /opt/conda/lib/python3.7/site-packages (from transformers) (4.64.0)\n",
      "Requirement already satisfied: numpy>=1.17 in /opt/conda/lib/python3.7/site-packages (from transformers) (1.21.6)\n",
      "Requirement already satisfied: tokenizers!=0.11.3,<0.13,>=0.11.1 in /opt/conda/lib/python3.7/site-packages (from transformers) (0.12.1)\n",
      "Requirement already satisfied: typing-extensions>=3.7.4.3 in /opt/conda/lib/python3.7/site-packages (from huggingface-hub<1.0,>=0.1.0->transformers) (4.3.0)\n",
      "Requirement already satisfied: pyparsing!=3.0.5,>=2.0.2 in /opt/conda/lib/python3.7/site-packages (from packaging>=20.0->transformers) (3.0.9)\n",
      "Requirement already satisfied: zipp>=0.5 in /opt/conda/lib/python3.7/site-packages (from importlib-metadata->transformers) (3.8.0)\n",
      "Requirement already satisfied: idna<4,>=2.5 in /opt/conda/lib/python3.7/site-packages (from requests->transformers) (3.3)\n",
      "Requirement already satisfied: certifi>=2017.4.17 in /opt/conda/lib/python3.7/site-packages (from requests->transformers) (2022.6.15.2)\n",
      "Requirement already satisfied: urllib3<1.27,>=1.21.1 in /opt/conda/lib/python3.7/site-packages (from requests->transformers) (1.26.12)\n",
      "Requirement already satisfied: charset-normalizer<3,>=2 in /opt/conda/lib/python3.7/site-packages (from requests->transformers) (2.1.0)\n",
      "\u001b[33mWARNING: Running pip as the 'root' user can result in broken permissions and conflicting behaviour with the system package manager. It is recommended to use a virtual environment instead: https://pip.pypa.io/warnings/venv\u001b[0m\u001b[33m\n",
      "\u001b[0m"
     ]
    }
   ],
   "source": [
    "!pip install -q sumeval==0.2.2\n",
    "!pip install transformers"
   ]
  },
  {
   "cell_type": "markdown",
   "metadata": {},
   "source": [
    "# Decription \n",
    "### Fine-Tune a T5 model on a summarisation dataset using Pytorch and HugingFace."
   ]
  },
  {
   "cell_type": "code",
   "execution_count": 37,
   "metadata": {
    "execution": {
     "iopub.execute_input": "2022-10-03T10:55:20.690956Z",
     "iopub.status.busy": "2022-10-03T10:55:20.690459Z",
     "iopub.status.idle": "2022-10-03T10:55:20.700779Z",
     "shell.execute_reply": "2022-10-03T10:55:20.699113Z",
     "shell.execute_reply.started": "2022-10-03T10:55:20.690866Z"
    }
   },
   "outputs": [
    {
     "name": "stdout",
     "output_type": "stream",
     "text": [
      "Pytorch version: 1.11.0\n"
     ]
    }
   ],
   "source": [
    "import gc\n",
    "import random\n",
    "import warnings\n",
    "import numpy as np\n",
    "import pandas as pd\n",
    "from sklearn.model_selection import train_test_split\n",
    "\n",
    "#import nlpaug.augmenter.word as naw\n",
    "from sumeval.metrics.rouge import RougeCalculator\n",
    "\n",
    "import torch\n",
    "from transformers import AutoTokenizer\n",
    "import transformers\n",
    "from transformers import AutoModelForSeq2SeqLM\n",
    "\n",
    "print('Pytorch version: %s'  % torch.__version__)"
   ]
  },
  {
   "cell_type": "code",
   "execution_count": 38,
   "metadata": {
    "execution": {
     "iopub.execute_input": "2022-10-03T10:55:23.514010Z",
     "iopub.status.busy": "2022-10-03T10:55:23.512719Z",
     "iopub.status.idle": "2022-10-03T10:55:23.521866Z",
     "shell.execute_reply": "2022-10-03T10:55:23.519961Z",
     "shell.execute_reply.started": "2022-10-03T10:55:23.513948Z"
    }
   },
   "outputs": [],
   "source": [
    "warnings.simplefilter('ignore')\n",
    "pd.set_option('display.max_colwidth', 100)\n",
    "cuda =  torch.cuda.is_available()\n",
    "device = torch.device(\"cuda\") if cuda else torch.device(\"cpu\")"
   ]
  },
  {
   "cell_type": "markdown",
   "metadata": {
    "execution": {
     "iopub.execute_input": "2022-10-02T13:28:32.325478Z",
     "iopub.status.busy": "2022-10-02T13:28:32.324877Z",
     "iopub.status.idle": "2022-10-02T13:28:32.351848Z",
     "shell.execute_reply": "2022-10-02T13:28:32.350830Z",
     "shell.execute_reply.started": "2022-10-02T13:28:32.325361Z"
    }
   },
   "source": [
    "## Reading Data"
   ]
  },
  {
   "cell_type": "code",
   "execution_count": 39,
   "metadata": {
    "execution": {
     "iopub.execute_input": "2022-10-03T10:55:27.419013Z",
     "iopub.status.busy": "2022-10-03T10:55:27.418552Z",
     "iopub.status.idle": "2022-10-03T10:55:28.038083Z",
     "shell.execute_reply": "2022-10-03T10:55:28.036652Z",
     "shell.execute_reply.started": "2022-10-03T10:55:27.418983Z"
    }
   },
   "outputs": [],
   "source": [
    "df = pd.read_csv('../input/newssummery/news_summary.csv', encoding='ISO-8859-1').dropna().reset_index(drop=True)\n",
    "more_df = pd.read_csv('../input/newssummery/news_summary_more.csv', encoding='ISO-8859-1')"
   ]
  },
  {
   "cell_type": "code",
   "execution_count": 40,
   "metadata": {
    "execution": {
     "iopub.execute_input": "2022-10-03T10:55:35.821208Z",
     "iopub.status.busy": "2022-10-03T10:55:35.819931Z",
     "iopub.status.idle": "2022-10-03T10:55:35.828018Z",
     "shell.execute_reply": "2022-10-03T10:55:35.826173Z",
     "shell.execute_reply.started": "2022-10-03T10:55:35.821165Z"
    }
   },
   "outputs": [],
   "source": [
    "more_df = more_df\n",
    "df = df"
   ]
  },
  {
   "cell_type": "markdown",
   "metadata": {},
   "source": [
    "## Data Pre-processing"
   ]
  },
  {
   "cell_type": "code",
   "execution_count": 41,
   "metadata": {
    "execution": {
     "iopub.execute_input": "2022-10-03T10:55:40.033199Z",
     "iopub.status.busy": "2022-10-03T10:55:40.032669Z",
     "iopub.status.idle": "2022-10-03T10:55:41.523073Z",
     "shell.execute_reply": "2022-10-03T10:55:41.521574Z",
     "shell.execute_reply.started": "2022-10-03T10:55:40.033147Z"
    }
   },
   "outputs": [
    {
     "name": "stdout",
     "output_type": "stream",
     "text": [
      "df headlines length:\n",
      " count    4396.000000\n",
      "mean       55.976342\n",
      "std         4.580106\n",
      "min        31.000000\n",
      "25%        54.000000\n",
      "50%        58.000000\n",
      "75%        59.000000\n",
      "max        62.000000\n",
      "Name: headlines_length, dtype: float64\n",
      "more_df headlines length:\n",
      " count    98401.000000\n",
      "mean        57.643337\n",
      "std          4.878594\n",
      "min          9.000000\n",
      "25%         56.000000\n",
      "50%         59.000000\n",
      "75%         60.000000\n",
      "max         86.000000\n",
      "Name: headlines_length, dtype: float64\n"
     ]
    }
   ],
   "source": [
    "df['headlines_length'] = [len(df['headlines'][i]) for i in range(len(df))]\n",
    "df['text_length'] = [len(df['text'][i]) for i in range(len(df))]\n",
    "more_df['headlines_length'] = [len(more_df['headlines'][i]) for i in range(len(more_df))]\n",
    "more_df['text_length'] = [len(more_df['text'][i]) for i in range(len(more_df))]\n",
    "\n",
    "print('df headlines length:\\n', df['headlines_length'].describe())\n",
    "print('more_df headlines length:\\n', more_df['headlines_length'].describe())"
   ]
  },
  {
   "cell_type": "code",
   "execution_count": 42,
   "metadata": {
    "execution": {
     "iopub.execute_input": "2022-10-03T10:55:43.627671Z",
     "iopub.status.busy": "2022-10-03T10:55:43.627282Z",
     "iopub.status.idle": "2022-10-03T10:55:43.650230Z",
     "shell.execute_reply": "2022-10-03T10:55:43.648563Z",
     "shell.execute_reply.started": "2022-10-03T10:55:43.627639Z"
    }
   },
   "outputs": [
    {
     "name": "stdout",
     "output_type": "stream",
     "text": [
      "df text length:\n",
      " count    4396.000000\n",
      "mean      354.820746\n",
      "std        23.956240\n",
      "min       282.000000\n",
      "25%       339.000000\n",
      "50%       356.000000\n",
      "75%       372.000000\n",
      "max       400.000000\n",
      "Name: text_length, dtype: float64\n",
      "more_df text length:\n",
      " count    98401.000000\n",
      "mean       357.544161\n",
      "std         24.647988\n",
      "min          4.000000\n",
      "25%        341.000000\n",
      "50%        358.000000\n",
      "75%        376.000000\n",
      "max        513.000000\n",
      "Name: text_length, dtype: float64\n"
     ]
    }
   ],
   "source": [
    "print('df text length:\\n', df['text_length'].describe())\n",
    "print('more_df text length:\\n', more_df['text_length'].describe())"
   ]
  },
  {
   "cell_type": "code",
   "execution_count": 43,
   "metadata": {
    "execution": {
     "iopub.execute_input": "2022-10-03T10:55:46.402568Z",
     "iopub.status.busy": "2022-10-03T10:55:46.402076Z",
     "iopub.status.idle": "2022-10-03T10:55:46.445271Z",
     "shell.execute_reply": "2022-10-03T10:55:46.443766Z",
     "shell.execute_reply.started": "2022-10-03T10:55:46.402536Z"
    }
   },
   "outputs": [
    {
     "data": {
      "text/html": [
       "<div>\n",
       "<style scoped>\n",
       "    .dataframe tbody tr th:only-of-type {\n",
       "        vertical-align: middle;\n",
       "    }\n",
       "\n",
       "    .dataframe tbody tr th {\n",
       "        vertical-align: top;\n",
       "    }\n",
       "\n",
       "    .dataframe thead th {\n",
       "        text-align: right;\n",
       "    }\n",
       "</style>\n",
       "<table border=\"1\" class=\"dataframe\">\n",
       "  <thead>\n",
       "    <tr style=\"text-align: right;\">\n",
       "      <th></th>\n",
       "      <th>text</th>\n",
       "      <th>summary</th>\n",
       "    </tr>\n",
       "  </thead>\n",
       "  <tbody>\n",
       "    <tr>\n",
       "      <th>0</th>\n",
       "      <td>The Administration of Union Territory Daman and Diu has revoked its order that made it compulsor...</td>\n",
       "      <td>Daman &amp; Diu revokes mandatory Rakshabandhan in offices order</td>\n",
       "    </tr>\n",
       "    <tr>\n",
       "      <th>1</th>\n",
       "      <td>Malaika Arora slammed an Instagram user who trolled her for \"divorcing a rich man\" and \"having f...</td>\n",
       "      <td>Malaika slams user who trolled her for 'divorcing rich man'</td>\n",
       "    </tr>\n",
       "    <tr>\n",
       "      <th>2</th>\n",
       "      <td>The Indira Gandhi Institute of Medical Sciences (IGIMS) in Patna on Thursday made corrections in...</td>\n",
       "      <td>'Virgin' now corrected to 'Unmarried' in IGIMS' form</td>\n",
       "    </tr>\n",
       "    <tr>\n",
       "      <th>3</th>\n",
       "      <td>Lashkar-e-Taiba's Kashmir commander Abu Dujana, who was killed by security forces, said \"Kabhi h...</td>\n",
       "      <td>Aaj aapne pakad liya: LeT man Dujana before being killed</td>\n",
       "    </tr>\n",
       "    <tr>\n",
       "      <th>4</th>\n",
       "      <td>Hotels in Maharashtra will train their staff to spot signs of sex trafficking, including frequen...</td>\n",
       "      <td>Hotel staff to get training to spot signs of sex trafficking</td>\n",
       "    </tr>\n",
       "  </tbody>\n",
       "</table>\n",
       "</div>"
      ],
      "text/plain": [
       "                                                                                                  text  \\\n",
       "0  The Administration of Union Territory Daman and Diu has revoked its order that made it compulsor...   \n",
       "1  Malaika Arora slammed an Instagram user who trolled her for \"divorcing a rich man\" and \"having f...   \n",
       "2  The Indira Gandhi Institute of Medical Sciences (IGIMS) in Patna on Thursday made corrections in...   \n",
       "3  Lashkar-e-Taiba's Kashmir commander Abu Dujana, who was killed by security forces, said \"Kabhi h...   \n",
       "4  Hotels in Maharashtra will train their staff to spot signs of sex trafficking, including frequen...   \n",
       "\n",
       "                                                        summary  \n",
       "0  Daman & Diu revokes mandatory Rakshabandhan in offices order  \n",
       "1  Malaika slams user who trolled her for 'divorcing rich man'   \n",
       "2          'Virgin' now corrected to 'Unmarried' in IGIMS' form  \n",
       "3      Aaj aapne pakad liya: LeT man Dujana before being killed  \n",
       "4  Hotel staff to get training to spot signs of sex trafficking  "
      ]
     },
     "execution_count": 43,
     "metadata": {},
     "output_type": "execute_result"
    }
   ],
   "source": [
    "df = df.drop(['author', 'date', 'read_more', 'ctext',\n",
    "              'headlines_length', 'text_length'], axis=1)\n",
    "more_df = more_df.drop(['headlines_length', 'text_length'], axis=1)\n",
    "df = pd.concat([df, more_df]).reset_index(drop=True)\n",
    "df = df.rename(columns={'text': 'text', 'headlines': 'summary'}).reindex(columns=['text', 'summary'])\n",
    "df.head()"
   ]
  },
  {
   "cell_type": "code",
   "execution_count": 44,
   "metadata": {
    "execution": {
     "iopub.execute_input": "2022-10-03T10:55:49.680565Z",
     "iopub.status.busy": "2022-10-03T10:55:49.680103Z",
     "iopub.status.idle": "2022-10-03T10:55:50.445643Z",
     "shell.execute_reply": "2022-10-03T10:55:50.443979Z",
     "shell.execute_reply.started": "2022-10-03T10:55:49.680529Z"
    }
   },
   "outputs": [
    {
     "name": "stdout",
     "output_type": "stream",
     "text": [
      "65789 16448 20560\n"
     ]
    }
   ],
   "source": [
    "from datasets import Dataset\n",
    "dataset = Dataset.from_pandas(df)\n",
    "split = dataset.train_test_split(test_size=0.2, shuffle=True, seed=20)\n",
    "\n",
    "train, test = split[\"train\"], split[\"test\"]\n",
    "\n",
    "split = train.train_test_split(test_size=0.2, shuffle=True, seed=20)\n",
    "train, valid = split[\"train\"], split[\"test\"]\n",
    "\n",
    "print(len(train[\"text\"]), len(valid[\"text\"]), len(test[\"text\"]))"
   ]
  },
  {
   "cell_type": "markdown",
   "metadata": {},
   "source": [
    "## Modeling"
   ]
  },
  {
   "cell_type": "code",
   "execution_count": 45,
   "metadata": {
    "execution": {
     "iopub.execute_input": "2022-10-03T10:55:59.460855Z",
     "iopub.status.busy": "2022-10-03T10:55:59.460432Z",
     "iopub.status.idle": "2022-10-03T10:56:03.445027Z",
     "shell.execute_reply": "2022-10-03T10:56:03.443644Z",
     "shell.execute_reply.started": "2022-10-03T10:55:59.460825Z"
    }
   },
   "outputs": [],
   "source": [
    "# Loading tokenizer of t5 model\n",
    "tokenizer = AutoTokenizer.from_pretrained(\"t5-small\")"
   ]
  },
  {
   "cell_type": "code",
   "execution_count": 46,
   "metadata": {
    "execution": {
     "iopub.execute_input": "2022-10-03T10:56:08.562964Z",
     "iopub.status.busy": "2022-10-03T10:56:08.562507Z",
     "iopub.status.idle": "2022-10-03T10:56:08.573129Z",
     "shell.execute_reply": "2022-10-03T10:56:08.571520Z",
     "shell.execute_reply.started": "2022-10-03T10:56:08.562929Z"
    }
   },
   "outputs": [],
   "source": [
    "# prompting the model to do summarisation\n",
    "prefix = \"summarize: \"\n",
    "\n",
    "\n",
    "def preprocess_function(examples):\n",
    "    inputs = [prefix + doc for doc in examples[\"text\"]]\n",
    "    model_inputs = tokenizer(inputs, max_length=1024, truncation=True)\n",
    "    model_inputs[\"input_ids\"] = model_inputs[\"input_ids\"]\n",
    "\n",
    "    labels = tokenizer(text=examples[\"summary\"], max_length=128, truncation=True)\n",
    "\n",
    "    model_inputs[\"labels\"] = labels[\"input_ids\"]\n",
    "    return model_inputs"
   ]
  },
  {
   "cell_type": "code",
   "execution_count": null,
   "metadata": {},
   "outputs": [],
   "source": []
  },
  {
   "cell_type": "code",
   "execution_count": 47,
   "metadata": {
    "execution": {
     "iopub.execute_input": "2022-10-03T10:56:17.181391Z",
     "iopub.status.busy": "2022-10-03T10:56:17.180998Z",
     "iopub.status.idle": "2022-10-03T10:56:57.942280Z",
     "shell.execute_reply": "2022-10-03T10:56:57.940839Z",
     "shell.execute_reply.started": "2022-10-03T10:56:17.181362Z"
    }
   },
   "outputs": [
    {
     "data": {
      "application/vnd.jupyter.widget-view+json": {
       "model_id": "040ab5aa705b4741b0304c3ef83ecfc4",
       "version_major": 2,
       "version_minor": 0
      },
      "text/plain": [
       "  0%|          | 0/66 [00:00<?, ?ba/s]"
      ]
     },
     "metadata": {},
     "output_type": "display_data"
    },
    {
     "data": {
      "application/vnd.jupyter.widget-view+json": {
       "model_id": "ef0716f9b2c8487085c8b43a09d51e94",
       "version_major": 2,
       "version_minor": 0
      },
      "text/plain": [
       "  0%|          | 0/17 [00:00<?, ?ba/s]"
      ]
     },
     "metadata": {},
     "output_type": "display_data"
    },
    {
     "data": {
      "application/vnd.jupyter.widget-view+json": {
       "model_id": "27b4d411603140fea42a99371ed35024",
       "version_major": 2,
       "version_minor": 0
      },
      "text/plain": [
       "  0%|          | 0/21 [00:00<?, ?ba/s]"
      ]
     },
     "metadata": {},
     "output_type": "display_data"
    }
   ],
   "source": [
    "tokenized_train = train.map(preprocess_function, batched=True)\n",
    "tokenized_valid = valid.map(preprocess_function, batched=True)\n",
    "tokenized_test = test.map(preprocess_function, batched=True)"
   ]
  },
  {
   "cell_type": "code",
   "execution_count": 48,
   "metadata": {
    "execution": {
     "iopub.execute_input": "2022-10-03T10:57:05.035377Z",
     "iopub.status.busy": "2022-10-03T10:57:05.034873Z",
     "iopub.status.idle": "2022-10-03T10:57:05.061544Z",
     "shell.execute_reply": "2022-10-03T10:57:05.060343Z",
     "shell.execute_reply.started": "2022-10-03T10:57:05.035348Z"
    }
   },
   "outputs": [],
   "source": [
    "tokenized_train = tokenized_train.remove_columns([\"text\"]).remove_columns([\"summary\"]).remove_columns([\"attention_mask\"])\n",
    "tokenized_valid = tokenized_valid.remove_columns([\"text\"]).remove_columns([\"summary\"]).remove_columns([\"attention_mask\"])\n",
    "tokenized_test = tokenized_test.remove_columns([\"text\"]).remove_columns([\"summary\"]).remove_columns([\"attention_mask\"])\n",
    "\n",
    "tokenized_train.set_format(\"torch\")\n",
    "tokenized_valid.set_format(\"torch\")\n",
    "tokenized_test.set_format(\"torch\")"
   ]
  },
  {
   "cell_type": "code",
   "execution_count": null,
   "metadata": {},
   "outputs": [],
   "source": [
    "batch"
   ]
  },
  {
   "cell_type": "markdown",
   "metadata": {},
   "source": [
    "## Loading the model"
   ]
  },
  {
   "cell_type": "code",
   "execution_count": 49,
   "metadata": {
    "execution": {
     "iopub.execute_input": "2022-10-03T10:57:08.053146Z",
     "iopub.status.busy": "2022-10-03T10:57:08.052719Z",
     "iopub.status.idle": "2022-10-03T10:57:10.228623Z",
     "shell.execute_reply": "2022-10-03T10:57:10.227277Z",
     "shell.execute_reply.started": "2022-10-03T10:57:08.053117Z"
    }
   },
   "outputs": [],
   "source": [
    "model = AutoModelForSeq2SeqLM.from_pretrained(\"t5-small\")"
   ]
  },
  {
   "cell_type": "code",
   "execution_count": 81,
   "metadata": {
    "execution": {
     "iopub.execute_input": "2022-10-03T11:53:16.397690Z",
     "iopub.status.busy": "2022-10-03T11:53:16.397218Z",
     "iopub.status.idle": "2022-10-03T11:53:16.408545Z",
     "shell.execute_reply": "2022-10-03T11:53:16.407032Z",
     "shell.execute_reply.started": "2022-10-03T11:53:16.397652Z"
    }
   },
   "outputs": [],
   "source": [
    "from torch.utils.data import DataLoader\n",
    "from torch.nn.utils.rnn import pad_sequence\n",
    "from torch.utils.data.dataloader import default_collate\n",
    "\n",
    "def pad_collate(batch):\n",
    "    xx = [x[\"input_ids\"] for x in batch]\n",
    "    yy = [x[\"labels\"] for x in batch]\n",
    "    x_lens = [len(x) for x in xx]\n",
    "    y_lens = [len(y) for y in yy]\n",
    "\n",
    "    xx_pad = pad_sequence(xx, batch_first=True, padding_value=0)\n",
    "    yy_pad = pad_sequence(yy, batch_first=True, padding_value=0)\n",
    "    \n",
    "    data = [{\"input_ids\": x, \"labels\": y} for x,y in zip(xx_pad, yy_pad)]\n",
    "    \n",
    "    return default_collate(data)\n",
    "\n",
    "train_dataloader = DataLoader(tokenized_train, shuffle=True, batch_size=8, collate_fn=pad_collate)\n",
    "eval_dataloader = DataLoader(tokenized_valid, batch_size=8, collate_fn=pad_collate)"
   ]
  },
  {
   "cell_type": "code",
   "execution_count": 71,
   "metadata": {
    "execution": {
     "iopub.execute_input": "2022-10-03T11:49:14.670316Z",
     "iopub.status.busy": "2022-10-03T11:49:14.669814Z",
     "iopub.status.idle": "2022-10-03T11:49:14.677895Z",
     "shell.execute_reply": "2022-10-03T11:49:14.676324Z",
     "shell.execute_reply.started": "2022-10-03T11:49:14.670286Z"
    }
   },
   "outputs": [],
   "source": [
    "test_dataloader = DataLoader(tokenized_test, batch_size=8, collate_fn=pad_collate)"
   ]
  },
  {
   "cell_type": "code",
   "execution_count": 51,
   "metadata": {
    "execution": {
     "iopub.execute_input": "2022-10-03T10:57:19.135463Z",
     "iopub.status.busy": "2022-10-03T10:57:19.135073Z",
     "iopub.status.idle": "2022-10-03T10:57:19.146808Z",
     "shell.execute_reply": "2022-10-03T10:57:19.144950Z",
     "shell.execute_reply.started": "2022-10-03T10:57:19.135434Z"
    }
   },
   "outputs": [
    {
     "name": "stdout",
     "output_type": "stream",
     "text": [
      "24672\n"
     ]
    }
   ],
   "source": [
    "from transformers import get_scheduler\n",
    "from torch.optim import AdamW\n",
    "\n",
    "optimizer = AdamW(model.parameters(), lr=5e-5)\n",
    "\n",
    "num_epochs = 3\n",
    "num_training_steps = num_epochs * len(train_dataloader)\n",
    "print(num_training_steps)\n",
    "lr_scheduler = get_scheduler(\n",
    "    name=\"linear\", optimizer=optimizer, num_warmup_steps=0, num_training_steps=num_training_steps\n",
    ")"
   ]
  },
  {
   "cell_type": "code",
   "execution_count": 52,
   "metadata": {
    "execution": {
     "iopub.execute_input": "2022-10-03T10:57:23.453331Z",
     "iopub.status.busy": "2022-10-03T10:57:23.452845Z",
     "iopub.status.idle": "2022-10-03T11:30:37.728235Z",
     "shell.execute_reply": "2022-10-03T11:30:37.726966Z",
     "shell.execute_reply.started": "2022-10-03T10:57:23.453300Z"
    }
   },
   "outputs": [
    {
     "data": {
      "application/vnd.jupyter.widget-view+json": {
       "model_id": "7ebb7ad634a84e25a19c48e6eedb8922",
       "version_major": 2,
       "version_minor": 0
      },
      "text/plain": [
       "  0%|          | 0/24672 [00:00<?, ?it/s]"
      ]
     },
     "metadata": {},
     "output_type": "display_data"
    }
   ],
   "source": [
    "from tqdm.auto import tqdm\n",
    "\n",
    "progress_bar = tqdm(range(num_training_steps))\n",
    "\n",
    "model.to(device)\n",
    "model.train()\n",
    "\n",
    "for epoch in range(num_epochs):\n",
    "    for batch in train_dataloader:\n",
    "        batch = {k: v.to(device) for k, v in batch.items()}\n",
    "        outputs = model(**batch)\n",
    "        loss = outputs.loss\n",
    "        loss.backward()\n",
    "\n",
    "        optimizer.step()\n",
    "        lr_scheduler.step()\n",
    "        optimizer.zero_grad()\n",
    "        progress_bar.update(1)"
   ]
  },
  {
   "cell_type": "code",
   "execution_count": 82,
   "metadata": {
    "execution": {
     "iopub.execute_input": "2022-10-03T11:54:04.789289Z",
     "iopub.status.busy": "2022-10-03T11:54:04.788718Z",
     "iopub.status.idle": "2022-10-03T11:54:04.801748Z",
     "shell.execute_reply": "2022-10-03T11:54:04.800281Z",
     "shell.execute_reply.started": "2022-10-03T11:54:04.789240Z"
    }
   },
   "outputs": [],
   "source": [
    "for batch in eval_dataloader:\n",
    "    batch = {k: v.to(device) for k, v in batch.items()}\n",
    "    break"
   ]
  },
  {
   "cell_type": "code",
   "execution_count": 89,
   "metadata": {
    "execution": {
     "iopub.execute_input": "2022-10-03T11:55:19.308459Z",
     "iopub.status.busy": "2022-10-03T11:55:19.308075Z",
     "iopub.status.idle": "2022-10-03T11:55:19.321429Z",
     "shell.execute_reply": "2022-10-03T11:55:19.320202Z",
     "shell.execute_reply.started": "2022-10-03T11:55:19.308430Z"
    }
   },
   "outputs": [],
   "source": [
    "for batch_test in test_dataloader:\n",
    "    batch_test = {k: v.to(device) for k, v in batch.items()}\n",
    "    break"
   ]
  },
  {
   "cell_type": "code",
   "execution_count": 111,
   "metadata": {
    "execution": {
     "iopub.execute_input": "2022-10-03T12:43:16.560333Z",
     "iopub.status.busy": "2022-10-03T12:43:16.559877Z",
     "iopub.status.idle": "2022-10-03T12:43:16.801316Z",
     "shell.execute_reply": "2022-10-03T12:43:16.799767Z",
     "shell.execute_reply.started": "2022-10-03T12:43:16.560304Z"
    }
   },
   "outputs": [
    {
     "name": "stdout",
     "output_type": "stream",
     "text": [
      "Boycott names Dream XI cricket team which didn't feature greats\n",
      "No Indians in Geoffrey Boycott's Dream XI\n"
     ]
    }
   ],
   "source": [
    "outputs = model.generate(batch['input_ids'])\n",
    "#type(outputs)\n",
    "print(tokenizer.decode(outputs[5], skip_special_tokens=True))\n",
    "print(tokenizer.decode(batch['labels'][5], skip_special_tokens=True))"
   ]
  },
  {
   "cell_type": "code",
   "execution_count": 118,
   "metadata": {
    "execution": {
     "iopub.execute_input": "2022-10-03T13:13:25.543412Z",
     "iopub.status.busy": "2022-10-03T13:13:25.543007Z",
     "iopub.status.idle": "2022-10-03T13:13:25.557784Z",
     "shell.execute_reply": "2022-10-03T13:13:25.556137Z",
     "shell.execute_reply.started": "2022-10-03T13:13:25.543383Z"
    }
   },
   "outputs": [
    {
     "data": {
      "text/plain": [
       "tensor([    0,  7508, 10405,  3056,  7099,     3,     4,   196, 18096,   372,\n",
       "           84,   737,    31,    17,  1451,   248,     7,     1,     0],\n",
       "       device='cuda:0')"
      ]
     },
     "execution_count": 118,
     "metadata": {},
     "output_type": "execute_result"
    }
   ],
   "source": [
    "outputs[5]"
   ]
  },
  {
   "cell_type": "code",
   "execution_count": 98,
   "metadata": {
    "execution": {
     "iopub.execute_input": "2022-10-03T11:58:15.871441Z",
     "iopub.status.busy": "2022-10-03T11:58:15.870766Z",
     "iopub.status.idle": "2022-10-03T11:58:16.176437Z",
     "shell.execute_reply": "2022-10-03T11:58:16.174269Z",
     "shell.execute_reply.started": "2022-10-03T11:58:15.871396Z"
    }
   },
   "outputs": [
    {
     "name": "stdout",
     "output_type": "stream",
     "text": [
      "57-yr-old man who married 8 women over 8 years arrested in Tamil Na\n"
     ]
    }
   ],
   "source": [
    "outputs_test = model.generate(batch['input_ids'])\n",
    "#type(outputs)\n",
    "print(tokenizer.decode(outputs_test[0], skip_special_tokens=True))"
   ]
  },
  {
   "cell_type": "code",
   "execution_count": 112,
   "metadata": {
    "execution": {
     "iopub.execute_input": "2022-10-03T12:43:24.543157Z",
     "iopub.status.busy": "2022-10-03T12:43:24.542638Z",
     "iopub.status.idle": "2022-10-03T12:43:24.559454Z",
     "shell.execute_reply": "2022-10-03T12:43:24.557478Z",
     "shell.execute_reply.started": "2022-10-03T12:43:24.543118Z"
    }
   },
   "outputs": [
    {
     "name": "stdout",
     "output_type": "stream",
     "text": [
      "<class 'torch.Tensor'>\n"
     ]
    },
    {
     "data": {
      "text/plain": [
       "'summarize: Ex-England cricketer Geoffrey Boycott named his Dream XI cricket team which did not feature any of the Indian greats. Boycott said he did not pick Gavaskar in the side as batsmen from yesteryears like WG Grace and Jack Hobbs played under higher degree of challenges. \"The Dream XI selected by the ICC\\'s online readers insults...achievements of the greats,\" added Boycott.'"
      ]
     },
     "execution_count": 112,
     "metadata": {},
     "output_type": "execute_result"
    }
   ],
   "source": [
    "print(type(batch['input_ids'][0]))\n",
    "tokenizer.decode(batch['input_ids'][5], skip_special_tokens=True)"
   ]
  },
  {
   "cell_type": "code",
   "execution_count": 99,
   "metadata": {
    "execution": {
     "iopub.execute_input": "2022-10-03T11:58:28.803072Z",
     "iopub.status.busy": "2022-10-03T11:58:28.802661Z",
     "iopub.status.idle": "2022-10-03T11:58:28.812747Z",
     "shell.execute_reply": "2022-10-03T11:58:28.810902Z",
     "shell.execute_reply.started": "2022-10-03T11:58:28.803042Z"
    }
   },
   "outputs": [],
   "source": [
    "rouge = RougeCalculator(stopwords=True, lang=\"en\")\n",
    "\n",
    "def rouge_calc(preds, targets):\n",
    "    rouge_1 = [rouge.rouge_n(summary=preds[i],references=targets[i],n=1) for i in range(len(preds))]\n",
    "    rouge_2 = [rouge.rouge_n(summary=preds[i],references=targets[i],n=2) for i in range(len(preds))]\n",
    "    rouge_l = [rouge.rouge_l(summary=preds[i],references=targets[i]) for i in range(len(preds))]\n",
    "\n",
    "    return {\"Rouge_1\": np.array(rouge_1).mean(),\n",
    "            \"Rouge_2\": np.array(rouge_2).mean(),\n",
    "            \"Rouge_L\": np.array(rouge_l).mean()}"
   ]
  },
  {
   "cell_type": "code",
   "execution_count": 104,
   "metadata": {
    "execution": {
     "iopub.execute_input": "2022-10-03T12:36:54.882475Z",
     "iopub.status.busy": "2022-10-03T12:36:54.882075Z",
     "iopub.status.idle": "2022-10-03T12:36:54.893301Z",
     "shell.execute_reply": "2022-10-03T12:36:54.891630Z",
     "shell.execute_reply.started": "2022-10-03T12:36:54.882443Z"
    }
   },
   "outputs": [],
   "source": [
    "prediction = []\n",
    "ground_truth = []\n",
    "for i in range(0,8):\n",
    "    prediction.append(tokenizer.decode(outputs[i], skip_special_tokens=True))\n",
    "    ground_truth.append(tokenizer.decode(batch['labels'][i], skip_special_tokens=True))"
   ]
  },
  {
   "cell_type": "code",
   "execution_count": 105,
   "metadata": {
    "execution": {
     "iopub.execute_input": "2022-10-03T12:37:01.091510Z",
     "iopub.status.busy": "2022-10-03T12:37:01.090978Z",
     "iopub.status.idle": "2022-10-03T12:37:01.109440Z",
     "shell.execute_reply": "2022-10-03T12:37:01.108011Z",
     "shell.execute_reply.started": "2022-10-03T12:37:01.091480Z"
    }
   },
   "outputs": [
    {
     "data": {
      "text/plain": [
       "{'Rouge_1': 0.4218406593406593,\n",
       " 'Rouge_2': 0.17316017316017315,\n",
       " 'Rouge_L': 0.4026098901098901}"
      ]
     },
     "execution_count": 105,
     "metadata": {},
     "output_type": "execute_result"
    }
   ],
   "source": [
    "rouge_calc(prediction , ground_truth)"
   ]
  },
  {
   "cell_type": "code",
   "execution_count": 119,
   "metadata": {
    "execution": {
     "iopub.execute_input": "2022-10-03T13:17:27.578848Z",
     "iopub.status.busy": "2022-10-03T13:17:27.578374Z",
     "iopub.status.idle": "2022-10-03T13:17:27.587729Z",
     "shell.execute_reply": "2022-10-03T13:17:27.586192Z",
     "shell.execute_reply.started": "2022-10-03T13:17:27.578816Z"
    }
   },
   "outputs": [
    {
     "data": {
      "text/plain": [
       "['Man who allegedly duped 8 women of Rs of rupees arrested',\n",
       " 'RBI to start printing 1100 notes around April: Reports',\n",
       " 'Pakistan forced to conduct nuclear tests in self-defence: PM',\n",
       " 'Nakorean missile flew over hotel in Pyongyang: Team',\n",
       " \"violin bearing 'Made for the Worlds' Profesior's\",\n",
       " \"Boycott names his team which didn't feature Indian greats\",\n",
       " 'Woman turns 110-yr-old tree into a library in US',\n",
       " \"UK Defence Secretary Gavin Williamson calls Russia 'out of jail'\"]"
      ]
     },
     "execution_count": 119,
     "metadata": {},
     "output_type": "execute_result"
    }
   ],
   "source": [
    "prediction"
   ]
  },
  {
   "cell_type": "code",
   "execution_count": null,
   "metadata": {},
   "outputs": [],
   "source": []
  }
 ],
 "metadata": {
  "kernelspec": {
   "display_name": "Python 3 (ipykernel)",
   "language": "python",
   "name": "python3"
  },
  "language_info": {
   "codemirror_mode": {
    "name": "ipython",
    "version": 3
   },
   "file_extension": ".py",
   "mimetype": "text/x-python",
   "name": "python",
   "nbconvert_exporter": "python",
   "pygments_lexer": "ipython3",
   "version": "3.9.12"
  }
 },
 "nbformat": 4,
 "nbformat_minor": 4
}
